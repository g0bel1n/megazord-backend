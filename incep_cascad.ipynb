{
 "cells": [
  {
   "cell_type": "code",
   "execution_count": 60,
   "metadata": {
    "collapsed": true
   },
   "outputs": [],
   "source": [
    "from tensorflow import keras\n",
    "from tensorflow.keras import layers\n",
    "import numpy as np\n",
    "import tensorflow as tf\n",
    "from tqdm import tqdm\n",
    "import matplotlib.pyplot as plt\n",
    "import coremltools as ct"
   ]
  },
  {
   "cell_type": "code",
   "execution_count": 69,
   "outputs": [
    {
     "name": "stdout",
     "output_type": "stream",
     "text": [
      "Found 1861 files belonging to 3 classes.\n",
      "<BatchDataset shapes: ((None, 256, 256, 3), (None,)), types: (tf.float32, tf.int32)>\n"
     ]
    }
   ],
   "source": [
    "data_augmentation = keras.Sequential([\n",
    "\n",
    "    layers.experimental.preprocessing.RandomFlip(\"horizontal\"),\n",
    "    layers.experimental.preprocessing.RandomRotation(0.1),\n",
    "    layers.experimental.preprocessing.RandomContrast((0,1))\n",
    "\n",
    "])\n",
    "\n",
    "def partionner(tab):\n",
    "    n= tab.shape[0]\n",
    "    y,x = np.zeros(n),np.zeros((n,256,256,3))\n",
    "    for i in tqdm(range(len(tab))) :\n",
    "        y[i],x[i,:,:,:] = tab[i,1],tab[i,0]\n",
    "    return x,y\n"
   ],
   "metadata": {
    "collapsed": false,
    "pycharm": {
     "name": "#%%\n"
    }
   }
  },
  {
   "cell_type": "code",
   "execution_count": 86,
   "outputs": [],
   "source": [
    "def init_CNN(directory, epochs = 2, classes = False, class_name = None, to_coreML=False):\n",
    "    if classes : categories, m_name= {\"handle\" :0, \"ball_bearing\" : 1, \"motor\" : 2}, \"incepNet_Casc_class\"\n",
    "    elif class_name == \"handle\" : categories, m_name = {\"handle_lock\": 3, \"handle_lockless\": 4}, \"incepNet_Casc_label\"+class_name\n",
    "    elif class_name == \"motor\" : categories, m_name = {\"motor_S\" : 0, \"motor_m\" : 1}, \"incepNet_Casc_label\"+class_name\n",
    "\n",
    "    train_ds = tf.keras.preprocessing.image_dataset_from_directory(\n",
    "    directory,\n",
    "    labels=\"inferred\",\n",
    "    label_mode=\"int\", shuffle=True, batch_size=32)\n",
    "\n",
    "    print(\"Data is imported. Beginning of augmentation...\")\n",
    "    augmented_train_ds = train_ds.map(lambda x,y : (data_augmentation(x),y))\n",
    "    augmented_train_ds = augmented_train_ds.prefetch(buffer_size=32)\n",
    "    augmented_train_ds.shuffle(1000)\n",
    "    print(\"Augmentation is done. Importation of InceptionV3 beginning...\")\n",
    "    base_model = tf.keras.applications.InceptionV3(\n",
    "    include_top=False,\n",
    "    weights=\"imagenet\",\n",
    "    input_tensor=None,\n",
    "    input_shape=None,\n",
    "    pooling=None,\n",
    "    classes=1000,\n",
    "    classifier_activation=\"softmax\")\n",
    "\n",
    "    base_model.trainable = False\n",
    "\n",
    "\n",
    "    print(\"Compilation of the CNN\")\n",
    "    input_shape = (256,256,3)\n",
    "    inputs = keras.Input(shape=input_shape)\n",
    "    x = tf.keras.layers.experimental.preprocessing.Rescaling(1.0/255.)(inputs)\n",
    "    x = base_model(x, training=False)\n",
    "    x = keras.layers.GlobalAveragePooling2D()(x)\n",
    "\n",
    "    outputs = keras.layers.Dense(len(categories),activation=tf.nn.softmax)(x)\n",
    "    model = keras.Model(inputs, outputs)\n",
    "\n",
    "    model.compile(optimizer='adam',\n",
    "              loss='sparse_categorical_crossentropy',\n",
    "              metrics=['accuracy'])\n",
    "    print(\"_________________ Here is the architecture of the CNN_________________\")\n",
    "    model.summary()\n",
    "\n",
    "    print(\"Now begins training...\")\n",
    "    model.fit(augmented_train_ds, epochs=epochs)\n",
    "\n",
    "#hep ----------> to implement fine tuning in the model initialisation process\n",
    " #   if fine_tuning :\n",
    "#\n",
    "  #      base_model.trainable = True\n",
    " #       model.summary()\n",
    "\n",
    "\n",
    "    if to_coreML :\n",
    "        print(\"Model is trained, now is converting the model into a CoreML format\")\n",
    "\n",
    "        class_labels = list(categories.keys())\n",
    "\n",
    "        image_input = ct.ImageType(shape=(1, 256, 256, 3,),\n",
    "                               bias=[-1,-1,-1])\n",
    "\n",
    "        classifier_config = ct.ClassifierConfig(class_labels)\n",
    "\n",
    "        your_model =  ct.convert(\n",
    "        model, inputs=[image_input], classifier_config=classifier_config)\n",
    "\n",
    "        print(\"Saving the mlmodel\")\n",
    "        m_name= m_name+\".mlmodel\"\n",
    "        your_model.save(m_name)\n",
    "\n",
    "    print(\"done\")\n",
    "    return model"
   ],
   "metadata": {
    "collapsed": false,
    "pycharm": {
     "name": "#%%\n"
    }
   }
  },
  {
   "cell_type": "code",
   "execution_count": null,
   "outputs": [],
   "source": [
    "directory = \"/Users/lucas/test_framer/class/\"\n",
    "model = init_CNN(directory=directory, classes = True)"
   ],
   "metadata": {
    "collapsed": false,
    "pycharm": {
     "name": "#%%\n"
    }
   }
  },
  {
   "cell_type": "code",
   "execution_count": null,
   "outputs": [],
   "source": [
    "directory = \"/Users/lucas/test_framer/label/\"\n",
    "classes = [\"motor\",\"handle\"]\n",
    "for classe in classes :\n",
    "    directory_ = directory+classe\n",
    "    print(directory_)\n",
    "    init_CNN(directory=directory_, classes = False, class_name=classe, epochs= 4)"
   ],
   "metadata": {
    "collapsed": false,
    "pycharm": {
     "name": "#%%\n"
    }
   }
  },
  {
   "cell_type": "code",
   "execution_count": null,
   "outputs": [],
   "source": [],
   "metadata": {
    "collapsed": false,
    "pycharm": {
     "name": "#%%\n"
    }
   }
  }
 ],
 "metadata": {
  "kernelspec": {
   "display_name": "Python 3",
   "language": "python",
   "name": "python3"
  },
  "language_info": {
   "codemirror_mode": {
    "name": "ipython",
    "version": 2
   },
   "file_extension": ".py",
   "mimetype": "text/x-python",
   "name": "python",
   "nbconvert_exporter": "python",
   "pygments_lexer": "ipython2",
   "version": "2.7.6"
  }
 },
 "nbformat": 4,
 "nbformat_minor": 0
}
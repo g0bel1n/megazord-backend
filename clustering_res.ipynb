{
 "cells": [
  {
   "cell_type": "code",
   "execution_count": 1,
   "metadata": {
    "collapsed": true
   },
   "outputs": [],
   "source": [
    "from megazord.SwissKnife.megazord import get_data"
   ]
  },
  {
   "cell_type": "code",
   "execution_count": 2,
   "outputs": [
    {
     "name": "stdout",
     "output_type": "stream",
     "text": [
      "/Users/lucas/swiss_knife/data\n",
      "_____________ Training main_zord __________\n",
      " Importing train_ds...\n",
      "Found 15170 files belonging to 22 classes.\n"
     ]
    }
   ],
   "source": [
    "train_ds = get_data(\"main_zord\", \"/Users/lucas/swiss_knife\",label_mode=None)"
   ],
   "metadata": {
    "collapsed": false,
    "pycharm": {
     "name": "#%%\n"
    }
   }
  },
  {
   "cell_type": "code",
   "execution_count": 3,
   "outputs": [],
   "source": [
    "from tensorflow.keras.models import Sequential\n",
    "from tensorflow.keras import layers"
   ],
   "metadata": {
    "collapsed": false,
    "pycharm": {
     "name": "#%%\n"
    }
   }
  },
  {
   "cell_type": "code",
   "execution_count": 43,
   "outputs": [
    {
     "name": "stdout",
     "output_type": "stream",
     "text": [
      "Model: \"sequential_20\"\n",
      "_________________________________________________________________\n",
      "Layer (type)                 Output Shape              Param #   \n",
      "=================================================================\n",
      "reshape_9 (Reshape)          (None, 1, 196608)         0         \n",
      "_________________________________________________________________\n",
      "dense_42 (Dense)             (None, 1, 256)            50331904  \n",
      "_________________________________________________________________\n",
      "leaky_re_lu_28 (LeakyReLU)   (None, 1, 256)            0         \n",
      "_________________________________________________________________\n",
      "dense_43 (Dense)             (None, 1, 128)            32896     \n",
      "_________________________________________________________________\n",
      "leaky_re_lu_29 (LeakyReLU)   (None, 1, 128)            0         \n",
      "_________________________________________________________________\n",
      "dense_44 (Dense)             (None, 1, 16)             2064      \n",
      "=================================================================\n",
      "Total params: 50,366,864\n",
      "Trainable params: 50,366,864\n",
      "Non-trainable params: 0\n",
      "_________________________________________________________________\n"
     ]
    }
   ],
   "source": [
    "from sklearn.cluster import KMeans\n",
    "\n",
    "encoder = Sequential(\n",
    "    [\n",
    "        layers.InputLayer(input_shape=(256,256,3)),\n",
    "        layers.Reshape((1,256*256*3)),\n",
    "        layers.Dense(units = 256, activation='relu'),\n",
    "        layers.LeakyReLU(),\n",
    "        layers.Dense(units= 128, activation='relu'),\n",
    "        layers.LeakyReLU(),\n",
    "        layers.Dense(16, activation='relu')\n",
    "\n",
    "    ]\n",
    ")\n",
    "\n",
    "encoder.summary()"
   ],
   "metadata": {
    "collapsed": false,
    "pycharm": {
     "name": "#%%\n"
    }
   }
  },
  {
   "cell_type": "code",
   "execution_count": 45,
   "outputs": [
    {
     "name": "stdout",
     "output_type": "stream",
     "text": [
      "Model: \"sequential_21\"\n",
      "_________________________________________________________________\n",
      "Layer (type)                 Output Shape              Param #   \n",
      "=================================================================\n",
      "leaky_re_lu_30 (LeakyReLU)   (None, 1, 16)             0         \n",
      "_________________________________________________________________\n",
      "dense_45 (Dense)             (None, 1, 128)            2176      \n",
      "_________________________________________________________________\n",
      "leaky_re_lu_31 (LeakyReLU)   (None, 1, 128)            0         \n",
      "_________________________________________________________________\n",
      "dense_46 (Dense)             (None, 1, 256)            33024     \n",
      "_________________________________________________________________\n",
      "dense_47 (Dense)             (None, 1, 196608)         50528256  \n",
      "_________________________________________________________________\n",
      "reshape_10 (Reshape)         (None, 256, 256, 3)       0         \n",
      "=================================================================\n",
      "Total params: 50,563,456\n",
      "Trainable params: 50,563,456\n",
      "Non-trainable params: 0\n",
      "_________________________________________________________________\n"
     ]
    }
   ],
   "source": [
    "decoder = Sequential([\n",
    "    layers.InputLayer(input_shape=(1,16)),\n",
    "    layers.LeakyReLU(),\n",
    "    layers.Dense(units=128, activation='relu'),\n",
    "    layers.LeakyReLU(),\n",
    "    layers.Dense(units=256, activation='relu'),\n",
    "    layers.Dense(units = 256*256*3, activation='relu'),\n",
    "    layers.Reshape((256,256,3))\n",
    "])\n",
    "decoder.summary()"
   ],
   "metadata": {
    "collapsed": false,
    "pycharm": {
     "name": "#%%\n"
    }
   }
  },
  {
   "cell_type": "code",
   "execution_count": 46,
   "outputs": [],
   "source": [
    "autoencoder = Sequential([encoder,decoder])"
   ],
   "metadata": {
    "collapsed": false,
    "pycharm": {
     "name": "#%%\n"
    }
   }
  },
  {
   "cell_type": "code",
   "execution_count": 49,
   "outputs": [],
   "source": [
    "autoencoder.compile(optimizer = 'adam', loss = 'mean_absolute_error', metrics=['accuracy'])"
   ],
   "metadata": {
    "collapsed": false,
    "pycharm": {
     "name": "#%%\n"
    }
   }
  },
  {
   "cell_type": "code",
   "execution_count": 51,
   "outputs": [
    {
     "ename": "ValueError",
     "evalue": "in user code:\n\n    /Users/lucas/anaconda3/lib/python3.7/site-packages/tensorflow/python/keras/engine/training.py:806 train_function  *\n        return step_function(self, iterator)\n    /Users/lucas/anaconda3/lib/python3.7/site-packages/tensorflow/python/keras/engine/training.py:796 step_function  **\n        outputs = model.distribute_strategy.run(run_step, args=(data,))\n    /Users/lucas/anaconda3/lib/python3.7/site-packages/tensorflow/python/distribute/distribute_lib.py:1211 run\n        return self._extended.call_for_each_replica(fn, args=args, kwargs=kwargs)\n    /Users/lucas/anaconda3/lib/python3.7/site-packages/tensorflow/python/distribute/distribute_lib.py:2585 call_for_each_replica\n        return self._call_for_each_replica(fn, args, kwargs)\n    /Users/lucas/anaconda3/lib/python3.7/site-packages/tensorflow/python/distribute/distribute_lib.py:2945 _call_for_each_replica\n        return fn(*args, **kwargs)\n    /Users/lucas/anaconda3/lib/python3.7/site-packages/tensorflow/python/keras/engine/training.py:789 run_step  **\n        outputs = model.train_step(data)\n    /Users/lucas/anaconda3/lib/python3.7/site-packages/tensorflow/python/keras/engine/training.py:757 train_step\n        self.trainable_variables)\n    /Users/lucas/anaconda3/lib/python3.7/site-packages/tensorflow/python/keras/engine/training.py:2737 _minimize\n        trainable_variables))\n    /Users/lucas/anaconda3/lib/python3.7/site-packages/tensorflow/python/keras/optimizer_v2/optimizer_v2.py:562 _aggregate_gradients\n        filtered_grads_and_vars = _filter_grads(grads_and_vars)\n    /Users/lucas/anaconda3/lib/python3.7/site-packages/tensorflow/python/keras/optimizer_v2/optimizer_v2.py:1271 _filter_grads\n        ([v.name for _, v in grads_and_vars],))\n\n    ValueError: No gradients provided for any variable: ['dense_42/kernel:0', 'dense_42/bias:0', 'dense_43/kernel:0', 'dense_43/bias:0', 'dense_44/kernel:0', 'dense_44/bias:0', 'dense_45/kernel:0', 'dense_45/bias:0', 'dense_46/kernel:0', 'dense_46/bias:0', 'dense_47/kernel:0', 'dense_47/bias:0'].\n",
     "output_type": "error",
     "traceback": [
      "\u001B[0;31m---------------------------------------------------------------------------\u001B[0m",
      "\u001B[0;31mValueError\u001B[0m                                Traceback (most recent call last)",
      "\u001B[0;32m<ipython-input-51-b1e0b36801cf>\u001B[0m in \u001B[0;36m<module>\u001B[0;34m\u001B[0m\n\u001B[0;32m----> 1\u001B[0;31m \u001B[0mautoencoder\u001B[0m\u001B[0;34m.\u001B[0m\u001B[0mfit\u001B[0m\u001B[0;34m(\u001B[0m\u001B[0mtrain_ds\u001B[0m\u001B[0;34m,\u001B[0m \u001B[0mbatch_size\u001B[0m\u001B[0;34m=\u001B[0m\u001B[0;36m256\u001B[0m\u001B[0;34m,\u001B[0m \u001B[0mepochs\u001B[0m\u001B[0;34m=\u001B[0m\u001B[0;36m1\u001B[0m\u001B[0;34m)\u001B[0m\u001B[0;34m\u001B[0m\u001B[0;34m\u001B[0m\u001B[0m\n\u001B[0m",
      "\u001B[0;32m~/anaconda3/lib/python3.7/site-packages/tensorflow/python/keras/engine/training.py\u001B[0m in \u001B[0;36m_method_wrapper\u001B[0;34m(self, *args, **kwargs)\u001B[0m\n\u001B[1;32m    106\u001B[0m   \u001B[0;32mdef\u001B[0m \u001B[0m_method_wrapper\u001B[0m\u001B[0;34m(\u001B[0m\u001B[0mself\u001B[0m\u001B[0;34m,\u001B[0m \u001B[0;34m*\u001B[0m\u001B[0margs\u001B[0m\u001B[0;34m,\u001B[0m \u001B[0;34m**\u001B[0m\u001B[0mkwargs\u001B[0m\u001B[0;34m)\u001B[0m\u001B[0;34m:\u001B[0m\u001B[0;34m\u001B[0m\u001B[0;34m\u001B[0m\u001B[0m\n\u001B[1;32m    107\u001B[0m     \u001B[0;32mif\u001B[0m \u001B[0;32mnot\u001B[0m \u001B[0mself\u001B[0m\u001B[0;34m.\u001B[0m\u001B[0m_in_multi_worker_mode\u001B[0m\u001B[0;34m(\u001B[0m\u001B[0;34m)\u001B[0m\u001B[0;34m:\u001B[0m  \u001B[0;31m# pylint: disable=protected-access\u001B[0m\u001B[0;34m\u001B[0m\u001B[0;34m\u001B[0m\u001B[0m\n\u001B[0;32m--> 108\u001B[0;31m       \u001B[0;32mreturn\u001B[0m \u001B[0mmethod\u001B[0m\u001B[0;34m(\u001B[0m\u001B[0mself\u001B[0m\u001B[0;34m,\u001B[0m \u001B[0;34m*\u001B[0m\u001B[0margs\u001B[0m\u001B[0;34m,\u001B[0m \u001B[0;34m**\u001B[0m\u001B[0mkwargs\u001B[0m\u001B[0;34m)\u001B[0m\u001B[0;34m\u001B[0m\u001B[0;34m\u001B[0m\u001B[0m\n\u001B[0m\u001B[1;32m    109\u001B[0m \u001B[0;34m\u001B[0m\u001B[0m\n\u001B[1;32m    110\u001B[0m     \u001B[0;31m# Running inside `run_distribute_coordinator` already.\u001B[0m\u001B[0;34m\u001B[0m\u001B[0;34m\u001B[0m\u001B[0;34m\u001B[0m\u001B[0m\n",
      "\u001B[0;32m~/anaconda3/lib/python3.7/site-packages/tensorflow/python/keras/engine/training.py\u001B[0m in \u001B[0;36mfit\u001B[0;34m(self, x, y, batch_size, epochs, verbose, callbacks, validation_split, validation_data, shuffle, class_weight, sample_weight, initial_epoch, steps_per_epoch, validation_steps, validation_batch_size, validation_freq, max_queue_size, workers, use_multiprocessing)\u001B[0m\n\u001B[1;32m   1096\u001B[0m                 batch_size=batch_size):\n\u001B[1;32m   1097\u001B[0m               \u001B[0mcallbacks\u001B[0m\u001B[0;34m.\u001B[0m\u001B[0mon_train_batch_begin\u001B[0m\u001B[0;34m(\u001B[0m\u001B[0mstep\u001B[0m\u001B[0;34m)\u001B[0m\u001B[0;34m\u001B[0m\u001B[0;34m\u001B[0m\u001B[0m\n\u001B[0;32m-> 1098\u001B[0;31m               \u001B[0mtmp_logs\u001B[0m \u001B[0;34m=\u001B[0m \u001B[0mtrain_function\u001B[0m\u001B[0;34m(\u001B[0m\u001B[0miterator\u001B[0m\u001B[0;34m)\u001B[0m\u001B[0;34m\u001B[0m\u001B[0;34m\u001B[0m\u001B[0m\n\u001B[0m\u001B[1;32m   1099\u001B[0m               \u001B[0;32mif\u001B[0m \u001B[0mdata_handler\u001B[0m\u001B[0;34m.\u001B[0m\u001B[0mshould_sync\u001B[0m\u001B[0;34m:\u001B[0m\u001B[0;34m\u001B[0m\u001B[0;34m\u001B[0m\u001B[0m\n\u001B[1;32m   1100\u001B[0m                 \u001B[0mcontext\u001B[0m\u001B[0;34m.\u001B[0m\u001B[0masync_wait\u001B[0m\u001B[0;34m(\u001B[0m\u001B[0;34m)\u001B[0m\u001B[0;34m\u001B[0m\u001B[0;34m\u001B[0m\u001B[0m\n",
      "\u001B[0;32m~/anaconda3/lib/python3.7/site-packages/tensorflow/python/eager/def_function.py\u001B[0m in \u001B[0;36m__call__\u001B[0;34m(self, *args, **kwds)\u001B[0m\n\u001B[1;32m    778\u001B[0m       \u001B[0;32melse\u001B[0m\u001B[0;34m:\u001B[0m\u001B[0;34m\u001B[0m\u001B[0;34m\u001B[0m\u001B[0m\n\u001B[1;32m    779\u001B[0m         \u001B[0mcompiler\u001B[0m \u001B[0;34m=\u001B[0m \u001B[0;34m\"nonXla\"\u001B[0m\u001B[0;34m\u001B[0m\u001B[0;34m\u001B[0m\u001B[0m\n\u001B[0;32m--> 780\u001B[0;31m         \u001B[0mresult\u001B[0m \u001B[0;34m=\u001B[0m \u001B[0mself\u001B[0m\u001B[0;34m.\u001B[0m\u001B[0m_call\u001B[0m\u001B[0;34m(\u001B[0m\u001B[0;34m*\u001B[0m\u001B[0margs\u001B[0m\u001B[0;34m,\u001B[0m \u001B[0;34m**\u001B[0m\u001B[0mkwds\u001B[0m\u001B[0;34m)\u001B[0m\u001B[0;34m\u001B[0m\u001B[0;34m\u001B[0m\u001B[0m\n\u001B[0m\u001B[1;32m    781\u001B[0m \u001B[0;34m\u001B[0m\u001B[0m\n\u001B[1;32m    782\u001B[0m       \u001B[0mnew_tracing_count\u001B[0m \u001B[0;34m=\u001B[0m \u001B[0mself\u001B[0m\u001B[0;34m.\u001B[0m\u001B[0m_get_tracing_count\u001B[0m\u001B[0;34m(\u001B[0m\u001B[0;34m)\u001B[0m\u001B[0;34m\u001B[0m\u001B[0;34m\u001B[0m\u001B[0m\n",
      "\u001B[0;32m~/anaconda3/lib/python3.7/site-packages/tensorflow/python/eager/def_function.py\u001B[0m in \u001B[0;36m_call\u001B[0;34m(self, *args, **kwds)\u001B[0m\n\u001B[1;32m    812\u001B[0m       \u001B[0;31m# In this case we have not created variables on the first call. So we can\u001B[0m\u001B[0;34m\u001B[0m\u001B[0;34m\u001B[0m\u001B[0;34m\u001B[0m\u001B[0m\n\u001B[1;32m    813\u001B[0m       \u001B[0;31m# run the first trace but we should fail if variables are created.\u001B[0m\u001B[0;34m\u001B[0m\u001B[0;34m\u001B[0m\u001B[0;34m\u001B[0m\u001B[0m\n\u001B[0;32m--> 814\u001B[0;31m       \u001B[0mresults\u001B[0m \u001B[0;34m=\u001B[0m \u001B[0mself\u001B[0m\u001B[0;34m.\u001B[0m\u001B[0m_stateful_fn\u001B[0m\u001B[0;34m(\u001B[0m\u001B[0;34m*\u001B[0m\u001B[0margs\u001B[0m\u001B[0;34m,\u001B[0m \u001B[0;34m**\u001B[0m\u001B[0mkwds\u001B[0m\u001B[0;34m)\u001B[0m\u001B[0;34m\u001B[0m\u001B[0;34m\u001B[0m\u001B[0m\n\u001B[0m\u001B[1;32m    815\u001B[0m       \u001B[0;32mif\u001B[0m \u001B[0mself\u001B[0m\u001B[0;34m.\u001B[0m\u001B[0m_created_variables\u001B[0m\u001B[0;34m:\u001B[0m\u001B[0;34m\u001B[0m\u001B[0;34m\u001B[0m\u001B[0m\n\u001B[1;32m    816\u001B[0m         raise ValueError(\"Creating variables on a non-first call to a function\"\n",
      "\u001B[0;32m~/anaconda3/lib/python3.7/site-packages/tensorflow/python/eager/function.py\u001B[0m in \u001B[0;36m__call__\u001B[0;34m(self, *args, **kwargs)\u001B[0m\n\u001B[1;32m   2826\u001B[0m     \u001B[0;34m\"\"\"Calls a graph function specialized to the inputs.\"\"\"\u001B[0m\u001B[0;34m\u001B[0m\u001B[0;34m\u001B[0m\u001B[0m\n\u001B[1;32m   2827\u001B[0m     \u001B[0;32mwith\u001B[0m \u001B[0mself\u001B[0m\u001B[0;34m.\u001B[0m\u001B[0m_lock\u001B[0m\u001B[0;34m:\u001B[0m\u001B[0;34m\u001B[0m\u001B[0;34m\u001B[0m\u001B[0m\n\u001B[0;32m-> 2828\u001B[0;31m       \u001B[0mgraph_function\u001B[0m\u001B[0;34m,\u001B[0m \u001B[0margs\u001B[0m\u001B[0;34m,\u001B[0m \u001B[0mkwargs\u001B[0m \u001B[0;34m=\u001B[0m \u001B[0mself\u001B[0m\u001B[0;34m.\u001B[0m\u001B[0m_maybe_define_function\u001B[0m\u001B[0;34m(\u001B[0m\u001B[0margs\u001B[0m\u001B[0;34m,\u001B[0m \u001B[0mkwargs\u001B[0m\u001B[0;34m)\u001B[0m\u001B[0;34m\u001B[0m\u001B[0;34m\u001B[0m\u001B[0m\n\u001B[0m\u001B[1;32m   2829\u001B[0m     \u001B[0;32mreturn\u001B[0m \u001B[0mgraph_function\u001B[0m\u001B[0;34m.\u001B[0m\u001B[0m_filtered_call\u001B[0m\u001B[0;34m(\u001B[0m\u001B[0margs\u001B[0m\u001B[0;34m,\u001B[0m \u001B[0mkwargs\u001B[0m\u001B[0;34m)\u001B[0m  \u001B[0;31m# pylint: disable=protected-access\u001B[0m\u001B[0;34m\u001B[0m\u001B[0;34m\u001B[0m\u001B[0m\n\u001B[1;32m   2830\u001B[0m \u001B[0;34m\u001B[0m\u001B[0m\n",
      "\u001B[0;32m~/anaconda3/lib/python3.7/site-packages/tensorflow/python/eager/function.py\u001B[0m in \u001B[0;36m_maybe_define_function\u001B[0;34m(self, args, kwargs)\u001B[0m\n\u001B[1;32m   3208\u001B[0m           \u001B[0;32mand\u001B[0m \u001B[0mself\u001B[0m\u001B[0;34m.\u001B[0m\u001B[0minput_signature\u001B[0m \u001B[0;32mis\u001B[0m \u001B[0;32mNone\u001B[0m\u001B[0;34m\u001B[0m\u001B[0;34m\u001B[0m\u001B[0m\n\u001B[1;32m   3209\u001B[0m           and call_context_key in self._function_cache.missed):\n\u001B[0;32m-> 3210\u001B[0;31m         \u001B[0;32mreturn\u001B[0m \u001B[0mself\u001B[0m\u001B[0;34m.\u001B[0m\u001B[0m_define_function_with_shape_relaxation\u001B[0m\u001B[0;34m(\u001B[0m\u001B[0margs\u001B[0m\u001B[0;34m,\u001B[0m \u001B[0mkwargs\u001B[0m\u001B[0;34m)\u001B[0m\u001B[0;34m\u001B[0m\u001B[0;34m\u001B[0m\u001B[0m\n\u001B[0m\u001B[1;32m   3211\u001B[0m \u001B[0;34m\u001B[0m\u001B[0m\n\u001B[1;32m   3212\u001B[0m       \u001B[0mself\u001B[0m\u001B[0;34m.\u001B[0m\u001B[0m_function_cache\u001B[0m\u001B[0;34m.\u001B[0m\u001B[0mmissed\u001B[0m\u001B[0;34m.\u001B[0m\u001B[0madd\u001B[0m\u001B[0;34m(\u001B[0m\u001B[0mcall_context_key\u001B[0m\u001B[0;34m)\u001B[0m\u001B[0;34m\u001B[0m\u001B[0;34m\u001B[0m\u001B[0m\n",
      "\u001B[0;32m~/anaconda3/lib/python3.7/site-packages/tensorflow/python/eager/function.py\u001B[0m in \u001B[0;36m_define_function_with_shape_relaxation\u001B[0;34m(self, args, kwargs)\u001B[0m\n\u001B[1;32m   3140\u001B[0m \u001B[0;34m\u001B[0m\u001B[0m\n\u001B[1;32m   3141\u001B[0m     graph_function = self._create_graph_function(\n\u001B[0;32m-> 3142\u001B[0;31m         args, kwargs, override_flat_arg_shapes=relaxed_arg_shapes)\n\u001B[0m\u001B[1;32m   3143\u001B[0m     \u001B[0mself\u001B[0m\u001B[0;34m.\u001B[0m\u001B[0m_function_cache\u001B[0m\u001B[0;34m.\u001B[0m\u001B[0marg_relaxed\u001B[0m\u001B[0;34m[\u001B[0m\u001B[0mrank_only_cache_key\u001B[0m\u001B[0;34m]\u001B[0m \u001B[0;34m=\u001B[0m \u001B[0mgraph_function\u001B[0m\u001B[0;34m\u001B[0m\u001B[0;34m\u001B[0m\u001B[0m\n\u001B[1;32m   3144\u001B[0m \u001B[0;34m\u001B[0m\u001B[0m\n",
      "\u001B[0;32m~/anaconda3/lib/python3.7/site-packages/tensorflow/python/eager/function.py\u001B[0m in \u001B[0;36m_create_graph_function\u001B[0;34m(self, args, kwargs, override_flat_arg_shapes)\u001B[0m\n\u001B[1;32m   3073\u001B[0m             \u001B[0marg_names\u001B[0m\u001B[0;34m=\u001B[0m\u001B[0marg_names\u001B[0m\u001B[0;34m,\u001B[0m\u001B[0;34m\u001B[0m\u001B[0;34m\u001B[0m\u001B[0m\n\u001B[1;32m   3074\u001B[0m             \u001B[0moverride_flat_arg_shapes\u001B[0m\u001B[0;34m=\u001B[0m\u001B[0moverride_flat_arg_shapes\u001B[0m\u001B[0;34m,\u001B[0m\u001B[0;34m\u001B[0m\u001B[0;34m\u001B[0m\u001B[0m\n\u001B[0;32m-> 3075\u001B[0;31m             capture_by_value=self._capture_by_value),\n\u001B[0m\u001B[1;32m   3076\u001B[0m         \u001B[0mself\u001B[0m\u001B[0;34m.\u001B[0m\u001B[0m_function_attributes\u001B[0m\u001B[0;34m,\u001B[0m\u001B[0;34m\u001B[0m\u001B[0;34m\u001B[0m\u001B[0m\n\u001B[1;32m   3077\u001B[0m         \u001B[0mfunction_spec\u001B[0m\u001B[0;34m=\u001B[0m\u001B[0mself\u001B[0m\u001B[0;34m.\u001B[0m\u001B[0mfunction_spec\u001B[0m\u001B[0;34m,\u001B[0m\u001B[0;34m\u001B[0m\u001B[0;34m\u001B[0m\u001B[0m\n",
      "\u001B[0;32m~/anaconda3/lib/python3.7/site-packages/tensorflow/python/framework/func_graph.py\u001B[0m in \u001B[0;36mfunc_graph_from_py_func\u001B[0;34m(name, python_func, args, kwargs, signature, func_graph, autograph, autograph_options, add_control_dependencies, arg_names, op_return_value, collections, capture_by_value, override_flat_arg_shapes)\u001B[0m\n\u001B[1;32m    984\u001B[0m         \u001B[0m_\u001B[0m\u001B[0;34m,\u001B[0m \u001B[0moriginal_func\u001B[0m \u001B[0;34m=\u001B[0m \u001B[0mtf_decorator\u001B[0m\u001B[0;34m.\u001B[0m\u001B[0munwrap\u001B[0m\u001B[0;34m(\u001B[0m\u001B[0mpython_func\u001B[0m\u001B[0;34m)\u001B[0m\u001B[0;34m\u001B[0m\u001B[0;34m\u001B[0m\u001B[0m\n\u001B[1;32m    985\u001B[0m \u001B[0;34m\u001B[0m\u001B[0m\n\u001B[0;32m--> 986\u001B[0;31m       \u001B[0mfunc_outputs\u001B[0m \u001B[0;34m=\u001B[0m \u001B[0mpython_func\u001B[0m\u001B[0;34m(\u001B[0m\u001B[0;34m*\u001B[0m\u001B[0mfunc_args\u001B[0m\u001B[0;34m,\u001B[0m \u001B[0;34m**\u001B[0m\u001B[0mfunc_kwargs\u001B[0m\u001B[0;34m)\u001B[0m\u001B[0;34m\u001B[0m\u001B[0;34m\u001B[0m\u001B[0m\n\u001B[0m\u001B[1;32m    987\u001B[0m \u001B[0;34m\u001B[0m\u001B[0m\n\u001B[1;32m    988\u001B[0m       \u001B[0;31m# invariant: `func_outputs` contains only Tensors, CompositeTensors,\u001B[0m\u001B[0;34m\u001B[0m\u001B[0;34m\u001B[0m\u001B[0;34m\u001B[0m\u001B[0m\n",
      "\u001B[0;32m~/anaconda3/lib/python3.7/site-packages/tensorflow/python/eager/def_function.py\u001B[0m in \u001B[0;36mwrapped_fn\u001B[0;34m(*args, **kwds)\u001B[0m\n\u001B[1;32m    598\u001B[0m         \u001B[0;31m# __wrapped__ allows AutoGraph to swap in a converted function. We give\u001B[0m\u001B[0;34m\u001B[0m\u001B[0;34m\u001B[0m\u001B[0;34m\u001B[0m\u001B[0m\n\u001B[1;32m    599\u001B[0m         \u001B[0;31m# the function a weak reference to itself to avoid a reference cycle.\u001B[0m\u001B[0;34m\u001B[0m\u001B[0;34m\u001B[0m\u001B[0;34m\u001B[0m\u001B[0m\n\u001B[0;32m--> 600\u001B[0;31m         \u001B[0;32mreturn\u001B[0m \u001B[0mweak_wrapped_fn\u001B[0m\u001B[0;34m(\u001B[0m\u001B[0;34m)\u001B[0m\u001B[0;34m.\u001B[0m\u001B[0m__wrapped__\u001B[0m\u001B[0;34m(\u001B[0m\u001B[0;34m*\u001B[0m\u001B[0margs\u001B[0m\u001B[0;34m,\u001B[0m \u001B[0;34m**\u001B[0m\u001B[0mkwds\u001B[0m\u001B[0;34m)\u001B[0m\u001B[0;34m\u001B[0m\u001B[0;34m\u001B[0m\u001B[0m\n\u001B[0m\u001B[1;32m    601\u001B[0m     \u001B[0mweak_wrapped_fn\u001B[0m \u001B[0;34m=\u001B[0m \u001B[0mweakref\u001B[0m\u001B[0;34m.\u001B[0m\u001B[0mref\u001B[0m\u001B[0;34m(\u001B[0m\u001B[0mwrapped_fn\u001B[0m\u001B[0;34m)\u001B[0m\u001B[0;34m\u001B[0m\u001B[0;34m\u001B[0m\u001B[0m\n\u001B[1;32m    602\u001B[0m \u001B[0;34m\u001B[0m\u001B[0m\n",
      "\u001B[0;32m~/anaconda3/lib/python3.7/site-packages/tensorflow/python/framework/func_graph.py\u001B[0m in \u001B[0;36mwrapper\u001B[0;34m(*args, **kwargs)\u001B[0m\n\u001B[1;32m    971\u001B[0m           \u001B[0;32mexcept\u001B[0m \u001B[0mException\u001B[0m \u001B[0;32mas\u001B[0m \u001B[0me\u001B[0m\u001B[0;34m:\u001B[0m  \u001B[0;31m# pylint:disable=broad-except\u001B[0m\u001B[0;34m\u001B[0m\u001B[0;34m\u001B[0m\u001B[0m\n\u001B[1;32m    972\u001B[0m             \u001B[0;32mif\u001B[0m \u001B[0mhasattr\u001B[0m\u001B[0;34m(\u001B[0m\u001B[0me\u001B[0m\u001B[0;34m,\u001B[0m \u001B[0;34m\"ag_error_metadata\"\u001B[0m\u001B[0;34m)\u001B[0m\u001B[0;34m:\u001B[0m\u001B[0;34m\u001B[0m\u001B[0;34m\u001B[0m\u001B[0m\n\u001B[0;32m--> 973\u001B[0;31m               \u001B[0;32mraise\u001B[0m \u001B[0me\u001B[0m\u001B[0;34m.\u001B[0m\u001B[0mag_error_metadata\u001B[0m\u001B[0;34m.\u001B[0m\u001B[0mto_exception\u001B[0m\u001B[0;34m(\u001B[0m\u001B[0me\u001B[0m\u001B[0;34m)\u001B[0m\u001B[0;34m\u001B[0m\u001B[0;34m\u001B[0m\u001B[0m\n\u001B[0m\u001B[1;32m    974\u001B[0m             \u001B[0;32melse\u001B[0m\u001B[0;34m:\u001B[0m\u001B[0;34m\u001B[0m\u001B[0;34m\u001B[0m\u001B[0m\n\u001B[1;32m    975\u001B[0m               \u001B[0;32mraise\u001B[0m\u001B[0;34m\u001B[0m\u001B[0;34m\u001B[0m\u001B[0m\n",
      "\u001B[0;31mValueError\u001B[0m: in user code:\n\n    /Users/lucas/anaconda3/lib/python3.7/site-packages/tensorflow/python/keras/engine/training.py:806 train_function  *\n        return step_function(self, iterator)\n    /Users/lucas/anaconda3/lib/python3.7/site-packages/tensorflow/python/keras/engine/training.py:796 step_function  **\n        outputs = model.distribute_strategy.run(run_step, args=(data,))\n    /Users/lucas/anaconda3/lib/python3.7/site-packages/tensorflow/python/distribute/distribute_lib.py:1211 run\n        return self._extended.call_for_each_replica(fn, args=args, kwargs=kwargs)\n    /Users/lucas/anaconda3/lib/python3.7/site-packages/tensorflow/python/distribute/distribute_lib.py:2585 call_for_each_replica\n        return self._call_for_each_replica(fn, args, kwargs)\n    /Users/lucas/anaconda3/lib/python3.7/site-packages/tensorflow/python/distribute/distribute_lib.py:2945 _call_for_each_replica\n        return fn(*args, **kwargs)\n    /Users/lucas/anaconda3/lib/python3.7/site-packages/tensorflow/python/keras/engine/training.py:789 run_step  **\n        outputs = model.train_step(data)\n    /Users/lucas/anaconda3/lib/python3.7/site-packages/tensorflow/python/keras/engine/training.py:757 train_step\n        self.trainable_variables)\n    /Users/lucas/anaconda3/lib/python3.7/site-packages/tensorflow/python/keras/engine/training.py:2737 _minimize\n        trainable_variables))\n    /Users/lucas/anaconda3/lib/python3.7/site-packages/tensorflow/python/keras/optimizer_v2/optimizer_v2.py:562 _aggregate_gradients\n        filtered_grads_and_vars = _filter_grads(grads_and_vars)\n    /Users/lucas/anaconda3/lib/python3.7/site-packages/tensorflow/python/keras/optimizer_v2/optimizer_v2.py:1271 _filter_grads\n        ([v.name for _, v in grads_and_vars],))\n\n    ValueError: No gradients provided for any variable: ['dense_42/kernel:0', 'dense_42/bias:0', 'dense_43/kernel:0', 'dense_43/bias:0', 'dense_44/kernel:0', 'dense_44/bias:0', 'dense_45/kernel:0', 'dense_45/bias:0', 'dense_46/kernel:0', 'dense_46/bias:0', 'dense_47/kernel:0', 'dense_47/bias:0'].\n"
     ]
    }
   ],
   "source": [
    "autoencoder.fit(train_ds, batch_size=256, epochs=1)"
   ],
   "metadata": {
    "collapsed": false,
    "pycharm": {
     "name": "#%%\n"
    }
   }
  },
  {
   "cell_type": "code",
   "execution_count": 1,
   "outputs": [
    {
     "name": "stderr",
     "output_type": "stream",
     "text": [
      "WARNING:root:scikit-learn version 0.24.1 is not supported. Minimum required version: 0.17. Maximum required version: 0.19.2. Disabling scikit-learn conversion API.\n",
      "WARNING:root:Keras version 2.3.1 detected. Last version known to be fully compatible of Keras is 2.2.4 .\n"
     ]
    }
   ],
   "source": [
    "from utilitaries.utils import *\n",
    "from megazord.SwissKnife.megazord import *\n"
   ],
   "metadata": {
    "collapsed": false,
    "pycharm": {
     "name": "#%%\n"
    }
   }
  },
  {
   "cell_type": "code",
   "execution_count": 2,
   "outputs": [
    {
     "name": "stdout",
     "output_type": "stream",
     "text": [
      "Checking if ampoule model exists...\n",
      "\tSingle Label Class, no model required.\n",
      "Checking if angle model exists...\n",
      "\tSingle Label Class, no model required.\n",
      "Checking if baco model exists...\n",
      "\tSingle Label Class, no model required.\n",
      "Checking if ball_bearing model exists...\n",
      "\tSingle Label Class, no model required.\n",
      "Checking if big_ventilo model exists...\n",
      "\tSingle Label Class, no model required.\n",
      "Checking if charniere_3pieces model exists...\n",
      "\tSingle Label Class, no model required.\n",
      "Checking if charniere_metal model exists...\n",
      "\tSingle Label Class, no model required.\n",
      "Checking if cloche_verre model exists...\n",
      "\tSingle Label Class, no model required.\n",
      "Checking if handle model exists...\n",
      "Checking if moteur_vert model exists...\n",
      "\tSingle Label Class, no model required.\n",
      "Checking if motor model exists...\n",
      "Checking if noire_blanche_relief model exists...\n",
      "\tSingle Label Class, no model required.\n",
      "Checking if piece_chaise model exists...\n",
      "\tSingle Label Class, no model required.\n",
      "Checking if piece_chelou model exists...\n",
      "\tSingle Label Class, no model required.\n",
      "Checking if poignee_noire model exists...\n",
      "\tSingle Label Class, no model required.\n",
      "Checking if regulator model exists...\n",
      "Checking if scaphandre model exists...\n",
      "\tSingle Label Class, no model required.\n",
      "Checking if sofiane model exists...\n",
      "\tSingle Label Class, no model required.\n",
      "Checking if tube model exists...\n",
      "Checking if ventilo model exists...\n",
      "Checking if ventilo_long model exists...\n",
      "\tSingle Label Class, no model required.\n",
      "Checking if wheel model exists...\n",
      "Checking if main_zord exists...\n",
      "\n",
      "#############################\n",
      " \n",
      "Zord models have been imported, please use .train_zords method to startthe training queue if need be.\n",
      "Training Queue :  []\n"
     ]
    }
   ],
   "source": [
    "DIRECTORY = \"/Users/lucas/swiss_knife\"\n",
    "\n",
    "swiss_knife = SwissKnife(DIRECTORY, \"effnetv2\")"
   ],
   "metadata": {
    "collapsed": false,
    "pycharm": {
     "name": "#%%\n"
    }
   }
  },
  {
   "cell_type": "code",
   "execution_count": 3,
   "outputs": [
    {
     "name": "stderr",
     "output_type": "stream",
     "text": [
      "  0%|          | 0/22 [00:00<?, ?it/s]"
     ]
    },
    {
     "name": "stdout",
     "output_type": "stream",
     "text": [
      "[['ampoule', 'ampoule'], ['angle', 'angle'], ['baco', 'baco'], ['ball_bearing', 'ball_bearing'], ['big_ventilo', 'big_ventilo'], ['charniere_3pieces', 'charniere_3pieces'], ['charniere_metal', 'charniere_metal'], ['cloche_verre', 'cloche_verre'], ['handle', ['handle_lock', 'handle_lockless']], ['moteur_vert', 'moteur_vert'], ['motor', ['motor_m', 'motor_s']], ['noire_blanche_relief', 'noire_blanche_relief'], ['piece_chaise', 'piece_chaise'], ['piece_chelou', 'piece_chelou'], ['poignee_noire', 'poignee_noire'], ['regulator', ['4_buttons', '6_buttons', 'big_evco', 'small_evco']], ['scaphandre', 'scaphandre'], ['sofiane', 'sofiane'], ['tube', ['resistance_enroulee', 'resistance_grille', 'sonde', 'triple_resistance_coude']], ['ventilo', ['ventilo_carre', 'ventilo_octo']], ['ventilo_long', 'ventilo_long'], ['wheel', ['black_wheel', 'roue_noire_seule', 'white_wheel_ro', 'white_wheel_sq']]]\n"
     ]
    },
    {
     "name": "stderr",
     "output_type": "stream",
     "text": [
      "100%|██████████| 22/22 [00:58<00:00,  2.67s/it]\n"
     ]
    },
    {
     "name": "stdout",
     "output_type": "stream",
     "text": [
      "\n",
      "\t\t\t\t\t\t#############################################\n",
      "\t\t\t\t\t\t###########  MEGAZORD DEPLOYED  #############\n",
      "\t\t\t\t\t\t#############################################\n",
      " \n"
     ]
    }
   ],
   "source": [
    "model = swiss_knife.assemble_megazord()"
   ],
   "metadata": {
    "collapsed": false,
    "pycharm": {
     "name": "#%%\n"
    }
   }
  },
  {
   "cell_type": "code",
   "execution_count": 4,
   "outputs": [
    {
     "name": "stdout",
     "output_type": "stream",
     "text": [
      "Model: \"functional_1\"\n",
      "__________________________________________________________________________________________________\n",
      "Layer (type)                    Output Shape         Param #     Connected to                     \n",
      "==================================================================================================\n",
      "input_2 (InputLayer)            [(None, 256, 256, 3) 0                                            \n",
      "__________________________________________________________________________________________________\n",
      "main_zord (Functional)          (None, 22)           5947494     input_2[0][0]                    \n",
      "__________________________________________________________________________________________________\n",
      "tf_op_layer_Max (TensorFlowOpLa [()]                 0           main_zord[0][0]                  \n",
      "__________________________________________________________________________________________________\n",
      "tf_op_layer_Equal (TensorFlowOp [(None, 22)]         0           main_zord[0][0]                  \n",
      "                                                                 tf_op_layer_Max[0][0]            \n",
      "__________________________________________________________________________________________________\n",
      "tf_op_layer_Cast (TensorFlowOpL [(None, 22)]         0           tf_op_layer_Equal[0][0]          \n",
      "__________________________________________________________________________________________________\n",
      "tf_op_layer_Mul (TensorFlowOpLa [(None, 22)]         0           tf_op_layer_Cast[0][0]           \n",
      "                                                                 main_zord[0][0]                  \n",
      "__________________________________________________________________________________________________\n",
      "handle (Functional)             (None, 2)            5921874     input_2[0][0]                    \n",
      "__________________________________________________________________________________________________\n",
      "motor (Functional)              (None, 2)            5921874     input_2[0][0]                    \n",
      "__________________________________________________________________________________________________\n",
      "regulator (Functional)          (None, 4)            5924436     input_2[0][0]                    \n",
      "__________________________________________________________________________________________________\n",
      "tube (Functional)               (None, 4)            5924436     input_2[0][0]                    \n",
      "__________________________________________________________________________________________________\n",
      "ventilo (Functional)            (None, 2)            5921874     input_2[0][0]                    \n",
      "__________________________________________________________________________________________________\n",
      "wheel (Functional)              (None, 4)            5924436     input_2[0][0]                    \n",
      "__________________________________________________________________________________________________\n",
      "tf_op_layer_strided_slice_8 (Te [()]                 0           tf_op_layer_Mul[0][0]            \n",
      "__________________________________________________________________________________________________\n",
      "tf_op_layer_strided_slice_9 (Te [()]                 0           handle[0][0]                     \n",
      "__________________________________________________________________________________________________\n",
      "tf_op_layer_strided_slice_10 (T [()]                 0           tf_op_layer_Mul[0][0]            \n",
      "__________________________________________________________________________________________________\n",
      "tf_op_layer_strided_slice_11 (T [()]                 0           handle[0][0]                     \n",
      "__________________________________________________________________________________________________\n",
      "tf_op_layer_strided_slice_13 (T [()]                 0           tf_op_layer_Mul[0][0]            \n",
      "__________________________________________________________________________________________________\n",
      "tf_op_layer_strided_slice_14 (T [()]                 0           motor[0][0]                      \n",
      "__________________________________________________________________________________________________\n",
      "tf_op_layer_strided_slice_15 (T [()]                 0           tf_op_layer_Mul[0][0]            \n",
      "__________________________________________________________________________________________________\n",
      "tf_op_layer_strided_slice_16 (T [()]                 0           motor[0][0]                      \n",
      "__________________________________________________________________________________________________\n",
      "tf_op_layer_strided_slice_21 (T [()]                 0           tf_op_layer_Mul[0][0]            \n",
      "__________________________________________________________________________________________________\n",
      "tf_op_layer_strided_slice_22 (T [()]                 0           regulator[0][0]                  \n",
      "__________________________________________________________________________________________________\n",
      "tf_op_layer_strided_slice_23 (T [()]                 0           tf_op_layer_Mul[0][0]            \n",
      "__________________________________________________________________________________________________\n",
      "tf_op_layer_strided_slice_24 (T [()]                 0           regulator[0][0]                  \n",
      "__________________________________________________________________________________________________\n",
      "tf_op_layer_strided_slice_25 (T [()]                 0           tf_op_layer_Mul[0][0]            \n",
      "__________________________________________________________________________________________________\n",
      "tf_op_layer_strided_slice_26 (T [()]                 0           regulator[0][0]                  \n",
      "__________________________________________________________________________________________________\n",
      "tf_op_layer_strided_slice_27 (T [()]                 0           tf_op_layer_Mul[0][0]            \n",
      "__________________________________________________________________________________________________\n",
      "tf_op_layer_strided_slice_28 (T [()]                 0           regulator[0][0]                  \n",
      "__________________________________________________________________________________________________\n",
      "tf_op_layer_strided_slice_31 (T [()]                 0           tf_op_layer_Mul[0][0]            \n",
      "__________________________________________________________________________________________________\n",
      "tf_op_layer_strided_slice_32 (T [()]                 0           tube[0][0]                       \n",
      "__________________________________________________________________________________________________\n",
      "tf_op_layer_strided_slice_33 (T [()]                 0           tf_op_layer_Mul[0][0]            \n",
      "__________________________________________________________________________________________________\n",
      "tf_op_layer_strided_slice_34 (T [()]                 0           tube[0][0]                       \n",
      "__________________________________________________________________________________________________\n",
      "tf_op_layer_strided_slice_35 (T [()]                 0           tf_op_layer_Mul[0][0]            \n",
      "__________________________________________________________________________________________________\n",
      "tf_op_layer_strided_slice_36 (T [()]                 0           tube[0][0]                       \n",
      "__________________________________________________________________________________________________\n",
      "tf_op_layer_strided_slice_37 (T [()]                 0           tf_op_layer_Mul[0][0]            \n",
      "__________________________________________________________________________________________________\n",
      "tf_op_layer_strided_slice_38 (T [()]                 0           tube[0][0]                       \n",
      "__________________________________________________________________________________________________\n",
      "tf_op_layer_strided_slice_39 (T [()]                 0           tf_op_layer_Mul[0][0]            \n",
      "__________________________________________________________________________________________________\n",
      "tf_op_layer_strided_slice_40 (T [()]                 0           ventilo[0][0]                    \n",
      "__________________________________________________________________________________________________\n",
      "tf_op_layer_strided_slice_41 (T [()]                 0           tf_op_layer_Mul[0][0]            \n",
      "__________________________________________________________________________________________________\n",
      "tf_op_layer_strided_slice_42 (T [()]                 0           ventilo[0][0]                    \n",
      "__________________________________________________________________________________________________\n",
      "tf_op_layer_strided_slice_44 (T [()]                 0           tf_op_layer_Mul[0][0]            \n",
      "__________________________________________________________________________________________________\n",
      "tf_op_layer_strided_slice_45 (T [()]                 0           wheel[0][0]                      \n",
      "__________________________________________________________________________________________________\n",
      "tf_op_layer_strided_slice_46 (T [()]                 0           tf_op_layer_Mul[0][0]            \n",
      "__________________________________________________________________________________________________\n",
      "tf_op_layer_strided_slice_47 (T [()]                 0           wheel[0][0]                      \n",
      "__________________________________________________________________________________________________\n",
      "tf_op_layer_strided_slice_48 (T [()]                 0           tf_op_layer_Mul[0][0]            \n",
      "__________________________________________________________________________________________________\n",
      "tf_op_layer_strided_slice_49 (T [()]                 0           wheel[0][0]                      \n",
      "__________________________________________________________________________________________________\n",
      "tf_op_layer_strided_slice_50 (T [()]                 0           tf_op_layer_Mul[0][0]            \n",
      "__________________________________________________________________________________________________\n",
      "tf_op_layer_strided_slice_51 (T [()]                 0           wheel[0][0]                      \n",
      "__________________________________________________________________________________________________\n",
      "tf_op_layer_strided_slice (Tens [()]                 0           tf_op_layer_Mul[0][0]            \n",
      "__________________________________________________________________________________________________\n",
      "tf_op_layer_strided_slice_1 (Te [()]                 0           tf_op_layer_Mul[0][0]            \n",
      "__________________________________________________________________________________________________\n",
      "tf_op_layer_strided_slice_2 (Te [()]                 0           tf_op_layer_Mul[0][0]            \n",
      "__________________________________________________________________________________________________\n",
      "tf_op_layer_strided_slice_3 (Te [()]                 0           tf_op_layer_Mul[0][0]            \n",
      "__________________________________________________________________________________________________\n",
      "tf_op_layer_strided_slice_4 (Te [()]                 0           tf_op_layer_Mul[0][0]            \n",
      "__________________________________________________________________________________________________\n",
      "tf_op_layer_strided_slice_5 (Te [()]                 0           tf_op_layer_Mul[0][0]            \n",
      "__________________________________________________________________________________________________\n",
      "tf_op_layer_strided_slice_6 (Te [()]                 0           tf_op_layer_Mul[0][0]            \n",
      "__________________________________________________________________________________________________\n",
      "tf_op_layer_strided_slice_7 (Te [()]                 0           tf_op_layer_Mul[0][0]            \n",
      "__________________________________________________________________________________________________\n",
      "tf_op_layer_Mul_1 (TensorFlowOp [()]                 0           tf_op_layer_strided_slice_8[0][0]\n",
      "                                                                 tf_op_layer_strided_slice_9[0][0]\n",
      "__________________________________________________________________________________________________\n",
      "tf_op_layer_Mul_2 (TensorFlowOp [()]                 0           tf_op_layer_strided_slice_10[0][0\n",
      "                                                                 tf_op_layer_strided_slice_11[0][0\n",
      "__________________________________________________________________________________________________\n",
      "tf_op_layer_strided_slice_12 (T [()]                 0           tf_op_layer_Mul[0][0]            \n",
      "__________________________________________________________________________________________________\n",
      "tf_op_layer_Mul_3 (TensorFlowOp [()]                 0           tf_op_layer_strided_slice_13[0][0\n",
      "                                                                 tf_op_layer_strided_slice_14[0][0\n",
      "__________________________________________________________________________________________________\n",
      "tf_op_layer_Mul_4 (TensorFlowOp [()]                 0           tf_op_layer_strided_slice_15[0][0\n",
      "                                                                 tf_op_layer_strided_slice_16[0][0\n",
      "__________________________________________________________________________________________________\n",
      "tf_op_layer_strided_slice_17 (T [()]                 0           tf_op_layer_Mul[0][0]            \n",
      "__________________________________________________________________________________________________\n",
      "tf_op_layer_strided_slice_18 (T [()]                 0           tf_op_layer_Mul[0][0]            \n",
      "__________________________________________________________________________________________________\n",
      "tf_op_layer_strided_slice_19 (T [()]                 0           tf_op_layer_Mul[0][0]            \n",
      "__________________________________________________________________________________________________\n",
      "tf_op_layer_strided_slice_20 (T [()]                 0           tf_op_layer_Mul[0][0]            \n",
      "__________________________________________________________________________________________________\n",
      "tf_op_layer_Mul_5 (TensorFlowOp [()]                 0           tf_op_layer_strided_slice_21[0][0\n",
      "                                                                 tf_op_layer_strided_slice_22[0][0\n",
      "__________________________________________________________________________________________________\n",
      "tf_op_layer_Mul_6 (TensorFlowOp [()]                 0           tf_op_layer_strided_slice_23[0][0\n",
      "                                                                 tf_op_layer_strided_slice_24[0][0\n",
      "__________________________________________________________________________________________________\n",
      "tf_op_layer_Mul_7 (TensorFlowOp [()]                 0           tf_op_layer_strided_slice_25[0][0\n",
      "                                                                 tf_op_layer_strided_slice_26[0][0\n",
      "__________________________________________________________________________________________________\n",
      "tf_op_layer_Mul_8 (TensorFlowOp [()]                 0           tf_op_layer_strided_slice_27[0][0\n",
      "                                                                 tf_op_layer_strided_slice_28[0][0\n",
      "__________________________________________________________________________________________________\n",
      "tf_op_layer_strided_slice_29 (T [()]                 0           tf_op_layer_Mul[0][0]            \n",
      "__________________________________________________________________________________________________\n",
      "tf_op_layer_strided_slice_30 (T [()]                 0           tf_op_layer_Mul[0][0]            \n",
      "__________________________________________________________________________________________________\n",
      "tf_op_layer_Mul_9 (TensorFlowOp [()]                 0           tf_op_layer_strided_slice_31[0][0\n",
      "                                                                 tf_op_layer_strided_slice_32[0][0\n",
      "__________________________________________________________________________________________________\n",
      "tf_op_layer_Mul_10 (TensorFlowO [()]                 0           tf_op_layer_strided_slice_33[0][0\n",
      "                                                                 tf_op_layer_strided_slice_34[0][0\n",
      "__________________________________________________________________________________________________\n",
      "tf_op_layer_Mul_11 (TensorFlowO [()]                 0           tf_op_layer_strided_slice_35[0][0\n",
      "                                                                 tf_op_layer_strided_slice_36[0][0\n",
      "__________________________________________________________________________________________________\n",
      "tf_op_layer_Mul_12 (TensorFlowO [()]                 0           tf_op_layer_strided_slice_37[0][0\n",
      "                                                                 tf_op_layer_strided_slice_38[0][0\n",
      "__________________________________________________________________________________________________\n",
      "tf_op_layer_Mul_13 (TensorFlowO [()]                 0           tf_op_layer_strided_slice_39[0][0\n",
      "                                                                 tf_op_layer_strided_slice_40[0][0\n",
      "__________________________________________________________________________________________________\n",
      "tf_op_layer_Mul_14 (TensorFlowO [()]                 0           tf_op_layer_strided_slice_41[0][0\n",
      "                                                                 tf_op_layer_strided_slice_42[0][0\n",
      "__________________________________________________________________________________________________\n",
      "tf_op_layer_strided_slice_43 (T [()]                 0           tf_op_layer_Mul[0][0]            \n",
      "__________________________________________________________________________________________________\n",
      "tf_op_layer_Mul_15 (TensorFlowO [()]                 0           tf_op_layer_strided_slice_44[0][0\n",
      "                                                                 tf_op_layer_strided_slice_45[0][0\n",
      "__________________________________________________________________________________________________\n",
      "tf_op_layer_Mul_16 (TensorFlowO [()]                 0           tf_op_layer_strided_slice_46[0][0\n",
      "                                                                 tf_op_layer_strided_slice_47[0][0\n",
      "__________________________________________________________________________________________________\n",
      "tf_op_layer_Mul_17 (TensorFlowO [()]                 0           tf_op_layer_strided_slice_48[0][0\n",
      "                                                                 tf_op_layer_strided_slice_49[0][0\n",
      "__________________________________________________________________________________________________\n",
      "tf_op_layer_Mul_18 (TensorFlowO [()]                 0           tf_op_layer_strided_slice_50[0][0\n",
      "                                                                 tf_op_layer_strided_slice_51[0][0\n",
      "__________________________________________________________________________________________________\n",
      "tf_op_layer_0 (TensorFlowOpLaye [(34,)]              0           tf_op_layer_strided_slice[0][0]  \n",
      "                                                                 tf_op_layer_strided_slice_1[0][0]\n",
      "                                                                 tf_op_layer_strided_slice_2[0][0]\n",
      "                                                                 tf_op_layer_strided_slice_3[0][0]\n",
      "                                                                 tf_op_layer_strided_slice_4[0][0]\n",
      "                                                                 tf_op_layer_strided_slice_5[0][0]\n",
      "                                                                 tf_op_layer_strided_slice_6[0][0]\n",
      "                                                                 tf_op_layer_strided_slice_7[0][0]\n",
      "                                                                 tf_op_layer_Mul_1[0][0]          \n",
      "                                                                 tf_op_layer_Mul_2[0][0]          \n",
      "                                                                 tf_op_layer_strided_slice_12[0][0\n",
      "                                                                 tf_op_layer_Mul_3[0][0]          \n",
      "                                                                 tf_op_layer_Mul_4[0][0]          \n",
      "                                                                 tf_op_layer_strided_slice_17[0][0\n",
      "                                                                 tf_op_layer_strided_slice_18[0][0\n",
      "                                                                 tf_op_layer_strided_slice_19[0][0\n",
      "                                                                 tf_op_layer_strided_slice_20[0][0\n",
      "                                                                 tf_op_layer_Mul_5[0][0]          \n",
      "                                                                 tf_op_layer_Mul_6[0][0]          \n",
      "                                                                 tf_op_layer_Mul_7[0][0]          \n",
      "                                                                 tf_op_layer_Mul_8[0][0]          \n",
      "                                                                 tf_op_layer_strided_slice_29[0][0\n",
      "                                                                 tf_op_layer_strided_slice_30[0][0\n",
      "                                                                 tf_op_layer_Mul_9[0][0]          \n",
      "                                                                 tf_op_layer_Mul_10[0][0]         \n",
      "                                                                 tf_op_layer_Mul_11[0][0]         \n",
      "                                                                 tf_op_layer_Mul_12[0][0]         \n",
      "                                                                 tf_op_layer_Mul_13[0][0]         \n",
      "                                                                 tf_op_layer_Mul_14[0][0]         \n",
      "                                                                 tf_op_layer_strided_slice_43[0][0\n",
      "                                                                 tf_op_layer_Mul_15[0][0]         \n",
      "                                                                 tf_op_layer_Mul_16[0][0]         \n",
      "                                                                 tf_op_layer_Mul_17[0][0]         \n",
      "                                                                 tf_op_layer_Mul_18[0][0]         \n",
      "__________________________________________________________________________________________________\n",
      "tf_op_layer_Pack (TensorFlowOpL [(1, 34)]            0           tf_op_layer_0[0][0]              \n",
      "==================================================================================================\n",
      "Total params: 41,486,424\n",
      "Trainable params: 41,062,168\n",
      "Non-trainable params: 424,256\n",
      "__________________________________________________________________________________________________\n"
     ]
    }
   ],
   "source": [
    "model.summary()"
   ],
   "metadata": {
    "collapsed": false,
    "pycharm": {
     "name": "#%%\n"
    }
   }
  },
  {
   "cell_type": "code",
   "execution_count": 22,
   "outputs": [
    {
     "name": "stdout",
     "output_type": "stream",
     "text": [
      "Model: \"main_zord\"\n",
      "_________________________________________________________________\n",
      "Layer (type)                 Output Shape              Param #   \n",
      "=================================================================\n",
      "input_4 (InputLayer)         [(None, 256, 256, 3)]     0         \n",
      "_________________________________________________________________\n",
      "rescaling_2 (Rescaling)      (None, 256, 256, 3)       0         \n",
      "_________________________________________________________________\n",
      "efficientnetv2-b0 (EffNetV2M (None, 1280)              5919312   \n",
      "_________________________________________________________________\n",
      "reshape_2 (Reshape)          (None, 1, 1, 1280)        0         \n",
      "_________________________________________________________________\n",
      "global_average_pooling2d_3 ( (None, 1280)              0         \n",
      "_________________________________________________________________\n",
      "dense_2 (Dense)              (None, 22)                28182     \n",
      "=================================================================\n",
      "Total params: 5,947,494\n",
      "Trainable params: 5,886,886\n",
      "Non-trainable params: 60,608\n",
      "_________________________________________________________________\n"
     ]
    }
   ],
   "source": [
    "\n",
    "model.layers[1].summary()"
   ],
   "metadata": {
    "collapsed": false,
    "pycharm": {
     "name": "#%%\n"
    }
   }
  },
  {
   "cell_type": "code",
   "execution_count": 23,
   "outputs": [
    {
     "name": "stdout",
     "output_type": "stream",
     "text": [
      "Model: \"efficientnetv2-b0\"\n",
      "_________________________________________________________________\n",
      "Layer (type)                 Output Shape              Param #   \n",
      "=================================================================\n",
      "blocks_0 (FusedMBConvBlock)  multiple                  4672      \n",
      "_________________________________________________________________\n",
      "blocks_1 (FusedMBConvBlock)  multiple                  11648     \n",
      "_________________________________________________________________\n",
      "blocks_2 (FusedMBConvBlock)  multiple                  41600     \n",
      "_________________________________________________________________\n",
      "blocks_3 (FusedMBConvBlock)  multiple                  43712     \n",
      "_________________________________________________________________\n",
      "blocks_4 (FusedMBConvBlock)  multiple                  93120     \n",
      "_________________________________________________________________\n",
      "blocks_5 (MBConvBlock)       multiple                  36108     \n",
      "_________________________________________________________________\n",
      "blocks_6 (MBConvBlock)       multiple                  99480     \n",
      "_________________________________________________________________\n",
      "blocks_7 (MBConvBlock)       multiple                  99480     \n",
      "_________________________________________________________________\n",
      "blocks_8 (MBConvBlock)       multiple                  158296    \n",
      "_________________________________________________________________\n",
      "blocks_9 (MBConvBlock)       multiple                  200732    \n",
      "_________________________________________________________________\n",
      "blocks_10 (MBConvBlock)      multiple                  200732    \n",
      "_________________________________________________________________\n",
      "blocks_11 (MBConvBlock)      multiple                  200732    \n",
      "_________________________________________________________________\n",
      "blocks_12 (MBConvBlock)      multiple                  200732    \n",
      "_________________________________________________________________\n",
      "blocks_13 (MBConvBlock)      multiple                  254812    \n",
      "_________________________________________________________________\n",
      "blocks_14 (MBConvBlock)      multiple                  574512    \n",
      "_________________________________________________________________\n",
      "blocks_15 (MBConvBlock)      multiple                  574512    \n",
      "_________________________________________________________________\n",
      "blocks_16 (MBConvBlock)      multiple                  574512    \n",
      "_________________________________________________________________\n",
      "blocks_17 (MBConvBlock)      multiple                  574512    \n",
      "_________________________________________________________________\n",
      "blocks_18 (MBConvBlock)      multiple                  574512    \n",
      "_________________________________________________________________\n",
      "blocks_19 (MBConvBlock)      multiple                  574512    \n",
      "_________________________________________________________________\n",
      "blocks_20 (MBConvBlock)      multiple                  574512    \n",
      "_________________________________________________________________\n",
      "stem (Stem)                  multiple                  992       \n",
      "_________________________________________________________________\n",
      "head (Head)                  multiple                  250880    \n",
      "=================================================================\n",
      "Total params: 5,919,312\n",
      "Trainable params: 5,858,704\n",
      "Non-trainable params: 60,608\n",
      "_________________________________________________________________\n"
     ]
    },
    {
     "data": {
      "text/plain": "<tf.Tensor: shape=(1, 1280), dtype=float32, numpy=\narray([[-0.12868078, -0.126175  , -0.17474711, ..., -0.21313173,\n        -0.08863474, -0.26107523]], dtype=float32)>"
     },
     "execution_count": 23,
     "metadata": {},
     "output_type": "execute_result"
    }
   ],
   "source": [
    "from tensorflow.keras.layers import InputLayer\n",
    "import tensorflow as tf\n",
    "import numpy as np\n",
    "\n",
    "input = tf.random.uniform((1,256,256,3))\n",
    "model.layers[1].layers[2].summary()\n",
    "\n",
    "model.layers[1].layers[2](input, False, False)"
   ],
   "metadata": {
    "collapsed": false,
    "pycharm": {
     "name": "#%%\n"
    }
   }
  },
  {
   "cell_type": "code",
   "execution_count": null,
   "outputs": [],
   "source": [
    "model.layers[1].layers[2].layers[20]()\n"
   ],
   "metadata": {
    "collapsed": false,
    "pycharm": {
     "name": "#%%\n"
    }
   }
  }
 ],
 "metadata": {
  "kernelspec": {
   "display_name": "Python 3",
   "language": "python",
   "name": "python3"
  },
  "language_info": {
   "codemirror_mode": {
    "name": "ipython",
    "version": 2
   },
   "file_extension": ".py",
   "mimetype": "text/x-python",
   "name": "python",
   "nbconvert_exporter": "python",
   "pygments_lexer": "ipython2",
   "version": "2.7.6"
  }
 },
 "nbformat": 4,
 "nbformat_minor": 0
}